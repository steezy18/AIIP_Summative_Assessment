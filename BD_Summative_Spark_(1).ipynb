{
  "nbformat": 4,
  "nbformat_minor": 0,
  "metadata": {
    "kernelspec": {
      "display_name": "Python 3",
      "language": "python",
      "name": "python3"
    },
    "language_info": {
      "codemirror_mode": {
        "name": "ipython",
        "version": 3
      },
      "file_extension": ".py",
      "mimetype": "text/x-python",
      "name": "python",
      "nbconvert_exporter": "python",
      "pygments_lexer": "ipython3",
      "version": "3.7.3"
    },
    "colab": {
      "name": "BD_Summative Spark (1).ipynb",
      "version": "0.3.2",
      "provenance": [],
      "collapsed_sections": [],
      "include_colab_link": true
    }
  },
  "cells": [
    {
      "cell_type": "markdown",
      "metadata": {
        "id": "view-in-github",
        "colab_type": "text"
      },
      "source": [
        "<a href=\"https://colab.research.google.com/github/steezy18/AIIP_Summative_Assessment/blob/master/BD_Summative_Spark_(1).ipynb\" target=\"_parent\"><img src=\"https://colab.research.google.com/assets/colab-badge.svg\" alt=\"Open In Colab\"/></a>"
      ]
    },
    {
      "cell_type": "code",
      "metadata": {
        "id": "nWqM_YM6LAj4",
        "colab_type": "code",
        "colab": {}
      },
      "source": [
        "# GC Setup\n",
        "!apt-get install openjdk-8-jdk-headless -qq > /dev/null\n",
        "!wget -q https://www-us.apache.org/dist/spark/spark-2.4.3/spark-2.4.3-bin-hadoop2.7.tgz\n",
        "!tar xf spark-2.4.3-bin-hadoop2.7.tgz\n",
        "!pip install -q findspark"
      ],
      "execution_count": 0,
      "outputs": []
    },
    {
      "cell_type": "code",
      "metadata": {
        "id": "Kd7jY2iCLAj_",
        "colab_type": "code",
        "colab": {}
      },
      "source": [
        "import os\n",
        "os.environ[\"JAVA_HOME\"] = \"/usr/lib/jvm/java-8-openjdk-amd64\"\n",
        "os.environ[\"SPARK_HOME\"] = \"/content/spark-2.4.3-bin-hadoop2.7\""
      ],
      "execution_count": 0,
      "outputs": []
    },
    {
      "cell_type": "code",
      "metadata": {
        "id": "CAwJuh9gLAkE",
        "colab_type": "code",
        "outputId": "e80062da-56e9-49a2-aca8-3e6b523bbc30",
        "colab": {
          "resources": {
            "http://localhost:8080/nbextensions/google.colab/files.js": {
              "data": "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",
              "ok": true,
              "headers": [
                [
                  "content-type",
                  "application/javascript"
                ]
              ],
              "status": 200,
              "status_text": ""
            }
          },
          "base_uri": "https://localhost:8080/",
          "height": 75
        }
      },
      "source": [
        "from google.colab import files\n",
        "uploaded = files.upload() # Upload BDSensors_Temp.csv"
      ],
      "execution_count": 0,
      "outputs": [
        {
          "output_type": "display_data",
          "data": {
            "text/html": [
              "\n",
              "     <input type=\"file\" id=\"files-5f5e4676-4902-4424-a73f-8316d09686b0\" name=\"files[]\" multiple disabled />\n",
              "     <output id=\"result-5f5e4676-4902-4424-a73f-8316d09686b0\">\n",
              "      Upload widget is only available when the cell has been executed in the\n",
              "      current browser session. Please rerun this cell to enable.\n",
              "      </output>\n",
              "      <script src=\"/nbextensions/google.colab/files.js\"></script> "
            ],
            "text/plain": [
              "<IPython.core.display.HTML object>"
            ]
          },
          "metadata": {
            "tags": []
          }
        },
        {
          "output_type": "stream",
          "text": [
            "Saving BDSensors_Temp.csv to BDSensors_Temp.csv\n"
          ],
          "name": "stdout"
        }
      ]
    },
    {
      "cell_type": "code",
      "metadata": {
        "id": "hi9og-pHLAkI",
        "colab_type": "code",
        "colab": {}
      },
      "source": [
        ""
      ],
      "execution_count": 0,
      "outputs": []
    },
    {
      "cell_type": "markdown",
      "metadata": {
        "id": "80btQaJwLAkO",
        "colab_type": "text"
      },
      "source": [
        "We will explore fitting a regression model and k-means clustering in Spark ML. The data for Device 3 and 10 will be remove from the imported csv file"
      ]
    },
    {
      "cell_type": "markdown",
      "metadata": {
        "id": "n7UlHQKjLAkP",
        "colab_type": "text"
      },
      "source": [
        "### Start spark app"
      ]
    },
    {
      "cell_type": "code",
      "metadata": {
        "id": "3Iw8TpjbLAkR",
        "colab_type": "code",
        "colab": {}
      },
      "source": [
        "import findspark\n",
        "findspark.init()"
      ],
      "execution_count": 0,
      "outputs": []
    },
    {
      "cell_type": "code",
      "metadata": {
        "id": "ff_tISotLAkV",
        "colab_type": "code",
        "colab": {}
      },
      "source": [
        "from pyspark.sql import SparkSession\n",
        "\n",
        "spark = SparkSession \\\n",
        "    .builder \\\n",
        "    .appName(\"Spark_ml\") \\\n",
        "    .getOrCreate()"
      ],
      "execution_count": 0,
      "outputs": []
    },
    {
      "cell_type": "markdown",
      "metadata": {
        "id": "RCSziIfTLAkb",
        "colab_type": "text"
      },
      "source": [
        "### Load and clean data"
      ]
    },
    {
      "cell_type": "code",
      "metadata": {
        "id": "1rRkdtM0LAkc",
        "colab_type": "code",
        "colab": {}
      },
      "source": [
        "data = spark.read.csv(\"BDSensors_Temp.csv\",header=True)"
      ],
      "execution_count": 0,
      "outputs": []
    },
    {
      "cell_type": "code",
      "metadata": {
        "id": "Q8bKlCfAU2ak",
        "colab_type": "code",
        "outputId": "8d7f2cb4-2bb2-4052-dd27-e06a3beec132",
        "colab": {
          "base_uri": "https://localhost:8080/",
          "height": 55
        }
      },
      "source": [
        "data.head()"
      ],
      "execution_count": 0,
      "outputs": [
        {
          "output_type": "execute_result",
          "data": {
            "text/plain": [
              "Row(Device_ID='7', Moving Avg='51.90649336463123', SD='0.0', Temp1='51.90649336463123', Temp2='67.09714270109436', Temp3='25.953246682315616', Temp_Ambient='21.81445597653822', Time='0')"
            ]
          },
          "metadata": {
            "tags": []
          },
          "execution_count": 29
        }
      ]
    },
    {
      "cell_type": "code",
      "metadata": {
        "id": "tYu3GdwPLAkg",
        "colab_type": "code",
        "colab": {}
      },
      "source": [
        "\n",
        "#drop nas\n",
        "data = data.dropna()"
      ],
      "execution_count": 0,
      "outputs": []
    },
    {
      "cell_type": "code",
      "metadata": {
        "id": "gkxQrp51LAkm",
        "colab_type": "code",
        "outputId": "396f90fd-20d2-4f2d-d337-c32be5545fb3",
        "colab": {
          "base_uri": "https://localhost:8080/",
          "height": 191
        }
      },
      "source": [
        "data.printSchema()"
      ],
      "execution_count": 0,
      "outputs": [
        {
          "output_type": "stream",
          "text": [
            "root\n",
            " |-- Device_ID: string (nullable = true)\n",
            " |-- Moving Avg: string (nullable = true)\n",
            " |-- SD: string (nullable = true)\n",
            " |-- Temp1: string (nullable = true)\n",
            " |-- Temp2: string (nullable = true)\n",
            " |-- Temp3: string (nullable = true)\n",
            " |-- Temp_Ambient: string (nullable = true)\n",
            " |-- Time: string (nullable = true)\n",
            "\n"
          ],
          "name": "stdout"
        }
      ]
    },
    {
      "cell_type": "code",
      "metadata": {
        "id": "qR1dceykLAkv",
        "colab_type": "code",
        "colab": {}
      },
      "source": [
        "# covert to numeric types\n",
        "#import double type from spark sql\n",
        "from pyspark.sql.types import FloatType, IntegerType\n",
        "\n",
        "#convert all columns\n",
        "for col_name in data.columns:\n",
        "    data = data.withColumn(col_name, data[col_name].cast(FloatType()))\n",
        "\n",
        "data = data.withColumn(\"Device_ID\", data[\"Device_ID\"].cast(IntegerType()))\n",
        "data = data.withColumn(\"Time\", data[\"Time\"].cast(IntegerType()))\n",
        "    \n"
      ],
      "execution_count": 0,
      "outputs": []
    },
    {
      "cell_type": "code",
      "metadata": {
        "id": "hpqVxW31LAk0",
        "colab_type": "code",
        "outputId": "9802bcd8-1c32-4329-b53f-aab991987d3f",
        "colab": {
          "base_uri": "https://localhost:8080/",
          "height": 191
        }
      },
      "source": [
        "data.printSchema()"
      ],
      "execution_count": 0,
      "outputs": [
        {
          "output_type": "stream",
          "text": [
            "root\n",
            " |-- Device_ID: integer (nullable = true)\n",
            " |-- Moving Avg: float (nullable = true)\n",
            " |-- SD: float (nullable = true)\n",
            " |-- Temp1: float (nullable = true)\n",
            " |-- Temp2: float (nullable = true)\n",
            " |-- Temp3: float (nullable = true)\n",
            " |-- Temp_Ambient: float (nullable = true)\n",
            " |-- Time: integer (nullable = true)\n",
            "\n"
          ],
          "name": "stdout"
        }
      ]
    },
    {
      "cell_type": "markdown",
      "metadata": {
        "id": "F8bJ4BsOGzqQ",
        "colab_type": "text"
      },
      "source": [
        "**Filter out the data for Device 3 and 10 that have erroneuos readings for Temperature 3**"
      ]
    },
    {
      "cell_type": "code",
      "metadata": {
        "id": "JaiVc_jN9Opc",
        "colab_type": "code",
        "colab": {}
      },
      "source": [
        "data1=data.filter((data.Device_ID !=3) & (data.Device_ID !=10))"
      ],
      "execution_count": 0,
      "outputs": []
    },
    {
      "cell_type": "code",
      "metadata": {
        "id": "M-kBCKhX_M_4",
        "colab_type": "code",
        "outputId": "543992a1-8a7e-45a6-842a-dc0b82b6da84",
        "colab": {
          "base_uri": "https://localhost:8080/",
          "height": 295
        }
      },
      "source": [
        "data1.show(10)\n"
      ],
      "execution_count": 0,
      "outputs": [
        {
          "output_type": "stream",
          "text": [
            "+---------+----------+---------+---------+---------+---------+------------+----+\n",
            "|Device_ID|Moving Avg|       SD|    Temp1|    Temp2|    Temp3|Temp_Ambient|Time|\n",
            "+---------+----------+---------+---------+---------+---------+------------+----+\n",
            "|        7| 51.906494|      0.0|51.906494|67.097145|25.953247|   21.814455|   0|\n",
            "|        6|  57.74293|5.8364387|63.579372| 79.93731|31.789686|   22.253613|   0|\n",
            "|        9|  57.38179| 4.792723|  56.6595| 72.32545| 28.32975|   22.088745|   0|\n",
            "|        5| 49.695377|13.945262| 26.63615|39.299767|13.318075|   21.830154|   1|\n",
            "|        5| 45.801144|14.704983|30.224207|43.246628|15.112103|    22.37136|   1|\n",
            "|        7| 45.397617|14.350903| 57.76054|  73.5366| 28.88027|   21.898958|   1|\n",
            "|        1| 51.736897|21.482782| 96.11184|115.72302| 48.05592|   21.937454|   0|\n",
            "|        0| 54.444283| 21.65342| 76.10337| 93.71371|38.051685|   21.981083|   0|\n",
            "|        4| 53.429123|20.766764|44.292683| 58.72195|22.146341|   21.917131|   0|\n",
            "|        6|  53.58149|20.760622| 53.43018| 68.77319| 26.71509|   21.803337|   1|\n",
            "+---------+----------+---------+---------+---------+---------+------------+----+\n",
            "only showing top 10 rows\n",
            "\n"
          ],
          "name": "stdout"
        }
      ]
    },
    {
      "cell_type": "code",
      "metadata": {
        "id": "UGF_D04vtXSZ",
        "colab_type": "code",
        "colab": {}
      },
      "source": [
        "# Split the data into training and test sets (30% held out for testing)\n",
        "(trainingData, testData) = data1.randomSplit([0.7, 0.3])"
      ],
      "execution_count": 0,
      "outputs": []
    },
    {
      "cell_type": "markdown",
      "metadata": {
        "id": "WimyWoReLAk5",
        "colab_type": "text"
      },
      "source": [
        "### Prepare data for model"
      ]
    },
    {
      "cell_type": "code",
      "metadata": {
        "id": "10t0xgRyLAk5",
        "colab_type": "code",
        "colab": {}
      },
      "source": [
        "from pyspark.ml import Pipeline\n",
        "from pyspark.ml.feature import VectorAssembler\n",
        "from pyspark.ml.regression import DecisionTreeRegressor\n",
        "from pyspark.ml.evaluation import RegressionEvaluator"
      ],
      "execution_count": 0,
      "outputs": []
    },
    {
      "cell_type": "code",
      "metadata": {
        "id": "RIHpqAlALAk-",
        "colab_type": "code",
        "colab": {}
      },
      "source": [
        "# assemble variables to one feature column\n",
        "assembler = VectorAssembler(\n",
        "    inputCols = ['Temp1',\"Temp2\",\"Temp_Ambient\",\"Moving Avg\"],\n",
        "    outputCol = \"features\")\n",
        "\n",
        "#define the estimator - decision tree\n",
        "dtrmodel = DecisionTreeRegressor(labelCol=\"Temp3\", featuresCol=\"features\")\n",
        "\n",
        "# Chain indexers and tree in a Pipeline\n",
        "pipeline = Pipeline(stages=[assembler, dtrmodel])"
      ],
      "execution_count": 0,
      "outputs": []
    },
    {
      "cell_type": "markdown",
      "metadata": {
        "id": "cpGQci7wLAlA",
        "colab_type": "text"
      },
      "source": [
        "### Fit pipeline and transform data"
      ]
    },
    {
      "cell_type": "code",
      "metadata": {
        "id": "BUiSWJ_bLAlB",
        "colab_type": "code",
        "colab": {}
      },
      "source": [
        "#fit the pipeline\n",
        "PipelineModel = pipeline.fit(trainingData)\n",
        "\n",
        "# transform using the pipeline\n",
        "predictions = PipelineModel.transform(testData)\n",
        "\n",
        "# evaluate model fit\n",
        "predictions.select(\"prediction\", \"Temp3\")\n",
        "evaluator = RegressionEvaluator(\n",
        "    labelCol=\"Temp3\", predictionCol=\"prediction\", metricName=\"rmse\")\n",
        "rmse = evaluator.evaluate(predictions)"
      ],
      "execution_count": 0,
      "outputs": []
    },
    {
      "cell_type": "code",
      "metadata": {
        "id": "VpJu5vxQLAlD",
        "colab_type": "code",
        "outputId": "2eb4153c-4f8f-45ef-c763-d4138121346c",
        "colab": {
          "base_uri": "https://localhost:8080/",
          "height": 468
        }
      },
      "source": [
        "predictions.show()"
      ],
      "execution_count": 0,
      "outputs": [
        {
          "output_type": "stream",
          "text": [
            "+---------+----------+----------+---------+---------+---------+------------+----+--------------------+------------------+\n",
            "|Device_ID|Moving Avg|        SD|    Temp1|    Temp2|    Temp3|Temp_Ambient|Time|            features|        prediction|\n",
            "+---------+----------+----------+---------+---------+---------+------------+----+--------------------+------------------+\n",
            "|        0|  35.65844| 15.693521|  66.4446| 83.08906|  33.2223|   26.305725| 220|[66.4446029663086...| 33.29723166888139|\n",
            "|        0| 40.368557| 19.175915|62.551487| 78.80663|31.275743|   25.521416|  79|[62.5514869689941...|30.819608137458157|\n",
            "|        0| 40.570316| 14.332231| 66.53834| 83.19218| 33.26917|   26.811638| 183|[66.5383377075195...| 33.29723166888139|\n",
            "|        0| 40.763687| 17.851013| 60.10045| 76.11049|30.050224|   27.053366| 157|[60.1004486083984...|29.931933704878436|\n",
            "|        0|   41.5573| 11.620642| 62.28035|78.508385|31.140175|   25.592505|  86|[62.2803497314453...|30.819608137458157|\n",
            "|        0| 42.050045| 16.159107| 67.39237| 84.13161|33.696186|   26.955206| 161|[67.3923721313476...| 33.29723166888139|\n",
            "|        0|  42.15307|  11.40778| 67.10125| 83.81138|33.550625|    23.34405| 289|[67.1012496948242...| 33.29723166888139|\n",
            "|        0|  42.17959| 15.487783| 70.96042|88.056465| 35.48021|   17.629305| 413|[70.9604187011718...| 34.70890364583333|\n",
            "|        0|  43.03322| 21.973757|  71.0293|88.132225| 35.51465|    25.55743|  77|[71.029296875,88....| 36.27744413677015|\n",
            "|        0| 43.072464| 12.562922| 66.55139|83.206535|33.275696|   23.772919|  36|[66.5513916015625...| 33.29723166888139|\n",
            "|        0| 43.276127| 18.032211| 72.36191|  89.5981|36.180954|    19.70006| 359|[72.3619079589843...| 36.27744413677015|\n",
            "|        0|   43.4598| 12.878882|63.504616| 79.85508|31.752308|    20.63051| 337|[63.5046157836914...| 31.89277194015207|\n",
            "|        0| 43.631943| 18.833176| 74.92996| 92.42296| 37.46498|   23.433544| 274|[74.9299621582031...| 37.90741246835345|\n",
            "|        0|  43.77208|15.3270445| 73.15989|90.475876|36.579945|   22.606838| 296|[73.1598892211914...| 36.27744413677015|\n",
            "|        0| 44.028942| 18.328917| 70.58969| 87.64867|35.294846|     19.4258| 365|[70.5896911621093...| 34.70890364583333|\n",
            "|        0| 44.059475| 17.525347| 68.45568|85.301254| 34.22784|   25.691383| 226|[68.4556808471679...| 34.70890364583333|\n",
            "|        0| 44.165955| 20.498367|66.629684| 83.29265|33.314842|   25.428936| 244|[66.6296844482421...| 33.29723166888139|\n",
            "|        0| 44.269653| 12.132391|68.081154| 84.88927|34.040577|   26.616764| 106|[68.0811538696289...| 34.70890364583333|\n",
            "|        0|   44.5856|  18.31299| 74.22172| 91.64389| 37.11086|   20.363934| 344|[74.2217178344726...| 37.90741246835345|\n",
            "|        0|   44.6298| 17.717428| 66.77985|83.457825|33.389923|   27.069254| 146|[66.7798461914062...| 33.29723166888139|\n",
            "+---------+----------+----------+---------+---------+---------+------------+----+--------------------+------------------+\n",
            "only showing top 20 rows\n",
            "\n"
          ],
          "name": "stdout"
        }
      ]
    },
    {
      "cell_type": "code",
      "metadata": {
        "id": "fBa85PX5LAlF",
        "colab_type": "code",
        "outputId": "8c97c708-09b1-4466-c546-e06683f05ae0",
        "colab": {
          "base_uri": "https://localhost:8080/",
          "height": 35
        }
      },
      "source": [
        "##Root mean square error\n",
        "print(rmse)"
      ],
      "execution_count": 0,
      "outputs": [
        {
          "output_type": "stream",
          "text": [
            "0.46258201749394345\n"
          ],
          "name": "stdout"
        }
      ]
    },
    {
      "cell_type": "code",
      "metadata": {
        "id": "Co175e8cLAlH",
        "colab_type": "code",
        "colab": {}
      },
      "source": [
        "#save the fitted pipeline for later use\n",
        "PipelineModel.save(\"my1_pipeline\")"
      ],
      "execution_count": 0,
      "outputs": []
    },
    {
      "cell_type": "markdown",
      "metadata": {
        "id": "zDsLhScQHQFc",
        "colab_type": "text"
      },
      "source": [
        "**Filter all other data except the data for Device ID 3 and 10. Use the Model developed to predict the correct readings for Temperature 3 readings for Device 3 and 10**"
      ]
    },
    {
      "cell_type": "code",
      "metadata": {
        "id": "CXdLEuTV0nQS",
        "colab_type": "code",
        "colab": {}
      },
      "source": [
        "data2=data.filter((data.Device_ID !=0) & (data.Device_ID !=1) & (data.Device_ID !=2) & (data.Device_ID !=4) & (data.Device_ID !=5) & (data.Device_ID !=6)& (data.Device_ID !=7) & (data.Device_ID !=8) & (data.Device_ID !=9))"
      ],
      "execution_count": 0,
      "outputs": []
    },
    {
      "cell_type": "code",
      "metadata": {
        "id": "lZTGLvER28x-",
        "colab_type": "code",
        "outputId": "2508e981-623d-4d98-c8ce-7798b57ca0b3",
        "colab": {
          "base_uri": "https://localhost:8080/",
          "height": 468
        }
      },
      "source": [
        "data2.show()"
      ],
      "execution_count": 0,
      "outputs": [
        {
          "output_type": "stream",
          "text": [
            "+---------+----------+---------+---------+---------+---------+------------+----+\n",
            "|Device_ID|Moving Avg|       SD|    Temp1|    Temp2|    Temp3|Temp_Ambient|Time|\n",
            "+---------+----------+---------+---------+---------+---------+------------+----+\n",
            "|       10|  43.33713|14.510475|31.017063| 44.11877|215.50853|   22.137428|   0|\n",
            "|       10|   64.0277| 21.13513| 24.95669| 37.45236|212.47835|   21.877329|   0|\n",
            "|       10| 61.671913|22.938387|34.202652|47.622917|217.10132|   22.051142|   1|\n",
            "|        3| 52.479004|20.162497|47.760574|62.536633| 223.8803|   21.992851|   0|\n",
            "|        3|   53.3086| 19.97843| 52.58869|67.847565|226.29434|   21.748182|   0|\n",
            "|       10| 45.815186|15.556214|23.719845| 36.09183|211.85992|    22.45917|   1|\n",
            "|       10| 53.346912|17.507368|29.668783|42.635662| 214.8344|   21.816574|   1|\n",
            "|       10|  55.50349|21.735847|20.564281| 32.62071|210.28214|    21.84566|   1|\n",
            "|       10|    51.855|23.703283| 23.18535|35.503887|211.59268|   22.388458|   2|\n",
            "|       10| 48.004562|20.595072|27.079224|39.787148|213.53961|   21.820185|   2|\n",
            "|        3|  59.16992|16.827198|45.936314|60.529945|222.96815|   21.911997|   1|\n",
            "|        3| 54.173336|10.934325|51.614613| 66.77608|225.80731|   21.646955|   1|\n",
            "|       10| 56.837055|15.878591| 34.83439| 48.31783|217.41719|   22.106396|   2|\n",
            "|        3| 49.178844|11.062463|50.180187|65.198204|225.09009|   21.750282|   1|\n",
            "|        3| 48.672367| 4.293577|49.663433|64.629776|224.83171|    22.14674|   1|\n",
            "|       10| 52.889866|  14.7228|33.744106| 47.11852|216.87206|   22.116745|   2|\n",
            "|        3| 53.408844|14.338642| 49.19088| 64.10997|224.59544|   22.257248|   2|\n",
            "|       10| 55.412724|17.752396|23.865805|36.252384| 211.9329|    21.87325|   3|\n",
            "|        3|  55.88997|17.156248| 57.03134|72.734474|228.51567|    22.20502|   2|\n",
            "|       10|  50.68431|15.967604|22.465025| 34.71153|211.23251|   22.072744|   3|\n",
            "+---------+----------+---------+---------+---------+---------+------------+----+\n",
            "only showing top 20 rows\n",
            "\n"
          ],
          "name": "stdout"
        }
      ]
    },
    {
      "cell_type": "code",
      "metadata": {
        "id": "O2QY7Y103EEf",
        "colab_type": "code",
        "colab": {}
      },
      "source": [
        "# get new Temp3 predictions for device 3 and 10 using the pipeline model developed above\n",
        "predictions_3_10 = PipelineModel.transform(data2)\n"
      ],
      "execution_count": 0,
      "outputs": []
    },
    {
      "cell_type": "code",
      "metadata": {
        "id": "8DzMyeZ93u4f",
        "colab_type": "code",
        "outputId": "e4853587-fee6-4f87-990f-157ae16b3c71",
        "colab": {
          "base_uri": "https://localhost:8080/",
          "height": 468
        }
      },
      "source": [
        "predictions_3_10.show()"
      ],
      "execution_count": 0,
      "outputs": [
        {
          "output_type": "stream",
          "text": [
            "+---------+----------+---------+---------+---------+---------+------------+----+--------------------+------------------+\n",
            "|Device_ID|Moving Avg|       SD|    Temp1|    Temp2|    Temp3|Temp_Ambient|Time|            features|        prediction|\n",
            "+---------+----------+---------+---------+---------+---------+------------+----+--------------------+------------------+\n",
            "|       10|  43.33713|14.510475|31.017063| 44.11877|215.50853|   22.137428|   0|[31.0170631408691...|16.109317574449765|\n",
            "|       10|   64.0277| 21.13513| 24.95669| 37.45236|212.47835|   21.877329|   0|[24.9566898345947...|11.988466242381504|\n",
            "|       10| 61.671913|22.938387|34.202652|47.622917|217.10132|   22.051142|   1|[34.2026519775390...| 18.08628306374953|\n",
            "|        3| 52.479004|20.162497|47.760574|62.536633| 223.8803|   21.992851|   0|[47.7605743408203...| 23.89463337714022|\n",
            "|        3|   53.3086| 19.97843| 52.58869|67.847565|226.29434|   21.748182|   0|[52.5886917114257...|26.668721967159595|\n",
            "|       10| 45.815186|15.556214|23.719845| 36.09183|211.85992|    22.45917|   1|[23.7198448181152...|11.988466242381504|\n",
            "|       10| 53.346912|17.507368|29.668783|42.635662| 214.8344|   21.816574|   1|[29.6687831878662...|14.294688944089211|\n",
            "|       10|  55.50349|21.735847|20.564281| 32.62071|210.28214|    21.84566|   1|[20.5642814636230...|11.988466242381504|\n",
            "|       10|    51.855|23.703283| 23.18535|35.503887|211.59268|   22.388458|   2|[23.1853504180908...|11.988466242381504|\n",
            "|       10| 48.004562|20.595072|27.079224|39.787148|213.53961|   21.820185|   2|[27.0792236328125...|14.294688944089211|\n",
            "|        3|  59.16992|16.827198|45.936314|60.529945|222.96815|   21.911997|   1|[45.9363136291503...|22.942541340342363|\n",
            "|        3| 54.173336|10.934325|51.614613| 66.77608|225.80731|   21.646955|   1|[51.6146125793457...| 25.72690385977427|\n",
            "|       10| 56.837055|15.878591| 34.83439| 48.31783|217.41719|   22.106396|   2|[34.8343887329101...| 18.08628306374953|\n",
            "|        3| 49.178844|11.062463|50.180187|65.198204|225.09009|   21.750282|   1|[50.1801872253418...| 24.81891231690271|\n",
            "|        3| 48.672367| 4.293577|49.663433|64.629776|224.83171|    22.14674|   1|[49.6634330749511...| 24.81891231690271|\n",
            "|       10| 52.889866|  14.7228|33.744106| 47.11852|216.87206|   22.116745|   2|[33.7441062927246...|16.109317574449765|\n",
            "|        3| 53.408844|14.338642| 49.19088| 64.10997|224.59544|   22.257248|   2|[49.1908798217773...| 24.81891231690271|\n",
            "|       10| 55.412724|17.752396|23.865805|36.252384| 211.9329|    21.87325|   3|[23.8658046722412...|11.988466242381504|\n",
            "|        3|  55.88997|17.156248| 57.03134|72.734474|228.51567|    22.20502|   2|[57.0313415527343...|28.878208106520486|\n",
            "|       10|  50.68431|15.967604|22.465025| 34.71153|211.23251|   22.072744|   3|[22.4650249481201...|11.988466242381504|\n",
            "+---------+----------+---------+---------+---------+---------+------------+----+--------------------+------------------+\n",
            "only showing top 20 rows\n",
            "\n"
          ],
          "name": "stdout"
        }
      ]
    },
    {
      "cell_type": "markdown",
      "metadata": {
        "id": "yDLpMc0e4bho",
        "colab_type": "text"
      },
      "source": [
        "The new predicted value for Temp 3 is reasonable and can be use to replace the erroneous values for devices 3 and 10. From the function to generate the values of Temp1, Temp2 and Temp3, Temp 3 is half of Temp1. The predicted Temps 3 is approximately half of the Temp1 for Devices 3 and 10."
      ]
    },
    {
      "cell_type": "code",
      "metadata": {
        "id": "5xpW6vUj807q",
        "colab_type": "code",
        "colab": {}
      },
      "source": [
        "Sensor3_10data=predictions_3_10"
      ],
      "execution_count": 0,
      "outputs": []
    },
    {
      "cell_type": "code",
      "metadata": {
        "id": "06TyE14e22ta",
        "colab_type": "code",
        "outputId": "6eddc036-49bd-44b8-9c36-d32b9c7e9542",
        "colab": {
          "base_uri": "https://localhost:8080/",
          "height": 191
        }
      },
      "source": [
        "Sensor3_10data.columns"
      ],
      "execution_count": 0,
      "outputs": [
        {
          "output_type": "execute_result",
          "data": {
            "text/plain": [
              "['Device_ID',\n",
              " 'Moving Avg',\n",
              " 'SD',\n",
              " 'Temp1',\n",
              " 'Temp2',\n",
              " 'Temp3',\n",
              " 'Temp_Ambient',\n",
              " 'Time',\n",
              " 'features',\n",
              " 'prediction']"
            ]
          },
          "metadata": {
            "tags": []
          },
          "execution_count": 53
        }
      ]
    },
    {
      "cell_type": "code",
      "metadata": {
        "id": "sEWT-ZrO6aXD",
        "colab_type": "code",
        "colab": {}
      },
      "source": [
        "Sensor3_10data['Temp3'].values=Sensor3_10data['prediction'].values"
      ],
      "execution_count": 0,
      "outputs": []
    },
    {
      "cell_type": "code",
      "metadata": {
        "id": "7p3jt7Mr7Hqf",
        "colab_type": "code",
        "outputId": "2ad2d9e8-bdaf-4851-e9cb-b21e8a3d3a7d",
        "colab": {
          "base_uri": "https://localhost:8080/",
          "height": 468
        }
      },
      "source": [
        "Sensor3_10data.show()"
      ],
      "execution_count": 0,
      "outputs": [
        {
          "output_type": "stream",
          "text": [
            "+---------+----------+---------+---------+---------+---------+------------+----+--------------------+------------------+\n",
            "|Device_ID|Moving Avg|       SD|    Temp1|    Temp2|    Temp3|Temp_Ambient|Time|            features|        prediction|\n",
            "+---------+----------+---------+---------+---------+---------+------------+----+--------------------+------------------+\n",
            "|       10|  43.33713|14.510475|31.017063| 44.11877|215.50853|   22.137428|   0|[31.0170631408691...|16.109317574449765|\n",
            "|       10|   64.0277| 21.13513| 24.95669| 37.45236|212.47835|   21.877329|   0|[24.9566898345947...|11.988466242381504|\n",
            "|       10| 61.671913|22.938387|34.202652|47.622917|217.10132|   22.051142|   1|[34.2026519775390...| 18.08628306374953|\n",
            "|        3| 52.479004|20.162497|47.760574|62.536633| 223.8803|   21.992851|   0|[47.7605743408203...| 23.89463337714022|\n",
            "|        3|   53.3086| 19.97843| 52.58869|67.847565|226.29434|   21.748182|   0|[52.5886917114257...|26.668721967159595|\n",
            "|       10| 45.815186|15.556214|23.719845| 36.09183|211.85992|    22.45917|   1|[23.7198448181152...|11.988466242381504|\n",
            "|       10| 53.346912|17.507368|29.668783|42.635662| 214.8344|   21.816574|   1|[29.6687831878662...|14.294688944089211|\n",
            "|       10|  55.50349|21.735847|20.564281| 32.62071|210.28214|    21.84566|   1|[20.5642814636230...|11.988466242381504|\n",
            "|       10|    51.855|23.703283| 23.18535|35.503887|211.59268|   22.388458|   2|[23.1853504180908...|11.988466242381504|\n",
            "|       10| 48.004562|20.595072|27.079224|39.787148|213.53961|   21.820185|   2|[27.0792236328125...|14.294688944089211|\n",
            "|        3|  59.16992|16.827198|45.936314|60.529945|222.96815|   21.911997|   1|[45.9363136291503...|22.942541340342363|\n",
            "|        3| 54.173336|10.934325|51.614613| 66.77608|225.80731|   21.646955|   1|[51.6146125793457...| 25.72690385977427|\n",
            "|       10| 56.837055|15.878591| 34.83439| 48.31783|217.41719|   22.106396|   2|[34.8343887329101...| 18.08628306374953|\n",
            "|        3| 49.178844|11.062463|50.180187|65.198204|225.09009|   21.750282|   1|[50.1801872253418...| 24.81891231690271|\n",
            "|        3| 48.672367| 4.293577|49.663433|64.629776|224.83171|    22.14674|   1|[49.6634330749511...| 24.81891231690271|\n",
            "|       10| 52.889866|  14.7228|33.744106| 47.11852|216.87206|   22.116745|   2|[33.7441062927246...|16.109317574449765|\n",
            "|        3| 53.408844|14.338642| 49.19088| 64.10997|224.59544|   22.257248|   2|[49.1908798217773...| 24.81891231690271|\n",
            "|       10| 55.412724|17.752396|23.865805|36.252384| 211.9329|    21.87325|   3|[23.8658046722412...|11.988466242381504|\n",
            "|        3|  55.88997|17.156248| 57.03134|72.734474|228.51567|    22.20502|   2|[57.0313415527343...|28.878208106520486|\n",
            "|       10|  50.68431|15.967604|22.465025| 34.71153|211.23251|   22.072744|   3|[22.4650249481201...|11.988466242381504|\n",
            "+---------+----------+---------+---------+---------+---------+------------+----+--------------------+------------------+\n",
            "only showing top 20 rows\n",
            "\n"
          ],
          "name": "stdout"
        }
      ]
    },
    {
      "cell_type": "markdown",
      "metadata": {
        "id": "HupLw2mfLAlS",
        "colab_type": "text"
      },
      "source": [
        "### END"
      ]
    },
    {
      "cell_type": "code",
      "metadata": {
        "id": "Fwaj3MJVLAlT",
        "colab_type": "code",
        "colab": {}
      },
      "source": [
        "spark.stop()"
      ],
      "execution_count": 0,
      "outputs": []
    },
    {
      "cell_type": "code",
      "metadata": {
        "id": "6Go3vxb6LAlV",
        "colab_type": "code",
        "colab": {}
      },
      "source": [
        ""
      ],
      "execution_count": 0,
      "outputs": []
    }
  ]
}